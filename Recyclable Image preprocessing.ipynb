{
 "cells": [
  {
   "cell_type": "code",
   "execution_count": null,
   "id": "a7476793",
   "metadata": {},
   "outputs": [],
   "source": [
    "# rename all images\n",
    "import os\n",
    "\n",
    "path = os.chdir(\n",
    "    \"D:\\\\Users\\\\Adib Razak\\\\Desktop\\\\Recycleable_Classification\\\\yolo test data\\\\resize images\\\\powder\"\n",
    ")\n",
    "\n",
    "# R=recycleable, N=non-recycleable\n",
    "i = 0\n",
    "for file in os.listdir(path):\n",
    "    new_file_name = \"powder.\" + \"{}.jpg\".format(i)\n",
    "    os.rename(file, new_file_name)\n",
    "\n",
    "    i = i + 1"
   ]
  },
  {
   "cell_type": "code",
   "execution_count": null,
   "id": "dff9d9ab",
   "metadata": {},
   "outputs": [],
   "source": [
    "#split images\n",
    "import os\n",
    "import splitfolders\n",
    "\n",
    "splitfolders.ratio(\n",
    "    \"D:\\\\Users\\\\Adib Razak\\\\Desktop\\\\Recycleable_Classification\\\\dataSetProcessed\\\\smoothClahe\",\n",
    "    output=\"D:\\\\Users\\\\Adib Razak\\\\Desktop\\\\Recycleable_Classification\\\\dataSplit4\",\n",
    "    seed=1337,\n",
    "    ratio=(0.6, 0.2, 0.2),\n",
    ")\n"
   ]
  },
  {
   "cell_type": "code",
   "execution_count": 4,
   "id": "c4802622",
   "metadata": {},
   "outputs": [],
   "source": [
    "#resize images\n",
    "\n",
    "import cv2\n",
    "import os\n",
    "import numpy as np\n",
    "import matplotlib.pyplot as plt\n",
    "\n",
    "# j = get num of image number in folder\n",
    "j = len(os.listdir('D:\\\\Users\\\\Adib Razak\\\\Desktop\\\\Recycleable_Classification\\\\yolo test data\\\\resize images\\\\bottle'))\n",
    "\n",
    "for i in range(j):        \n",
    "    img = cv2.imread('D:/Users/Adib Razak/Desktop/Recycleable_Classification/yolo test data/resize images/bottle/bottle.'+str(i)+'.jpg')\n",
    "    resized = cv2.resize(img, (640, 640))\n",
    "\n",
    "    cv2.imwrite('D:/Users/Adib Razak/Desktop/Recycleable_Classification/yolo test data/resize images/resized images/bottle.'+str(i)+'.jpg',resized)"
   ]
  },
  {
   "cell_type": "code",
   "execution_count": 3,
   "id": "a14095d3",
   "metadata": {
    "scrolled": true
   },
   "outputs": [],
   "source": [
    "#image smoothing\n",
    "\n",
    "import os\n",
    "import cv2\n",
    "import numpy as np\n",
    "import matplotlib.pyplot as plt\n",
    "\n",
    "# j = get num of image number in folder\n",
    "j = len(os.listdir('D:\\\\Users\\\\Adib Razak\\\\Desktop\\\\Recycleable_Classification\\\\dataSet2\\\\NonRecyclable'))\n",
    "\n",
    "for i in range(j):        \n",
    "    img = cv2.imread('D:/Users/Adib Razak/Desktop/Recycleable_Classification/dataSet2/NonRecyclable/N'+str(i)+'.jpg')\n",
    "    averaging = cv2.blur(img, (5, 5))\n",
    "    #gaussian = cv2.GaussianBlur(img, (21, 21), 0)\n",
    "    #median = cv2.medianBlur(img, 5)\n",
    "    #bilateral = cv2.bilateralFilter(img, 9, 350, 350)\n",
    "\n",
    "    #cv2.imshow(\"Original image\", img)\n",
    "    #cv2.imshow(\"Averaging\", averaging)\n",
    "    #cv2.imshow(\"Gaussian\", gaussian)\n",
    "    #cv2.imshow(\"Median\", median)\n",
    "    #cv2.imshow(\"Bilateral\", bilateral)\n",
    "\n",
    "    #cv2.waitKey(0)\n",
    "    #cv2.destroyAllWindows()\n",
    "\n",
    "    cv2.imwrite('D:/Users/Adib Razak/Desktop/Recycleable_Classification/dataSetProcessed/smooth2/NonRecyclable/avgN'+str(i)+'.jpg',averaging)"
   ]
  },
  {
   "cell_type": "code",
   "execution_count": 13,
   "id": "342ed90c",
   "metadata": {},
   "outputs": [],
   "source": [
    "#image rgb to grayscale, CLAHE n back to 3 channel\n",
    "import cv2\n",
    "import os\n",
    "import cv2\n",
    "import numpy as np\n",
    "import matplotlib.pyplot as plt\n",
    "\n",
    "# j = get num of image number in folder\n",
    "j = len(os.listdir('D:\\\\Users\\\\Adib Razak\\\\Desktop\\\\Recycleable_Classification\\\\dataSetProcessed\\\\smooth\\\\NonRecyclable'))\n",
    "\n",
    "for i in range(j):\n",
    "    # Reading image from directory\n",
    "    img = cv2.imread('D:/Users/Adib Razak/Desktop/Recycleable_Classification/dataSetProcessed/smooth/NonRecyclable/avgN'+str(i)+'.jpg')\n",
    "    averaging = cv2.blur(img, (10, 10))\n",
    " \n",
    "    # Resizing image for compatibility\n",
    "    img = cv2.resize(img, (500, 600))\n",
    "\n",
    "    # The initial processing of the image\n",
    "    # img = cv2.medianBlur(image, 3)\n",
    "    image_bw = cv2.cvtColor(img, cv2.COLOR_BGR2GRAY)\n",
    "\n",
    "    # The declaration of CLAHE\n",
    "    # clipLimit -> Threshold for contrast limiting\n",
    "    clahe = cv2.createCLAHE(clipLimit = 5)\n",
    "    clahe_img = clahe.apply(image_bw) + 30\n",
    "\n",
    "    #Convert to 3 channel\n",
    "    final_img = cv2.cvtColor(clahe_img, cv2.COLOR_GRAY2RGB)\n",
    "    \n",
    "    cv2.imwrite('D:/Users/Adib Razak/Desktop/Recycleable_Classification/dataSetProcessed/smoothClahe/NonRecyclable/avgClhN'+str(i)+'.jpg',final_img)"
   ]
  },
  {
   "cell_type": "code",
   "execution_count": 17,
   "id": "993a00d9",
   "metadata": {},
   "outputs": [
    {
     "name": "stdout",
     "output_type": "stream",
     "text": [
      "3532\n"
     ]
    }
   ],
   "source": [
    "print(j)"
   ]
  },
  {
   "cell_type": "code",
   "execution_count": null,
   "id": "6bd4f8f0",
   "metadata": {},
   "outputs": [],
   "source": []
  }
 ],
 "metadata": {
  "kernelspec": {
   "display_name": "Python 3",
   "language": "python",
   "name": "python3"
  },
  "language_info": {
   "codemirror_mode": {
    "name": "ipython",
    "version": 3
   },
   "file_extension": ".py",
   "mimetype": "text/x-python",
   "name": "python",
   "nbconvert_exporter": "python",
   "pygments_lexer": "ipython3",
   "version": "3.8.8"
  }
 },
 "nbformat": 4,
 "nbformat_minor": 5
}
